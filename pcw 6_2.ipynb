{
 "cells": [
  {
   "cell_type": "code",
   "execution_count": 3,
   "metadata": {},
   "outputs": [
    {
     "name": "stdout",
     "output_type": "stream",
     "text": [
      "Collecting what3words\n",
      "  Using cached what3words-3.1.1-py2.py3-none-any.whl (5.9 kB)\n",
      "Requirement already satisfied: requests>=2.5.3 in c:\\users\\trang\\anaconda3\\lib\\site-packages (from what3words) (2.18.4)\n",
      "Requirement already satisfied: chardet<3.1.0,>=3.0.2 in c:\\users\\trang\\anaconda3\\lib\\site-packages (from requests>=2.5.3->what3words) (3.0.4)\n",
      "Requirement already satisfied: idna<2.7,>=2.5 in c:\\users\\trang\\anaconda3\\lib\\site-packages (from requests>=2.5.3->what3words) (2.6)\n",
      "Requirement already satisfied: urllib3<1.23,>=1.21.1 in c:\\users\\trang\\anaconda3\\lib\\site-packages (from requests>=2.5.3->what3words) (1.22)\n",
      "Requirement already satisfied: certifi>=2017.4.17 in c:\\users\\trang\\anaconda3\\lib\\site-packages (from requests>=2.5.3->what3words) (2018.4.16)\n",
      "Installing collected packages: what3words\n",
      "Successfully installed what3words-3.1.1\n"
     ]
    },
    {
     "name": "stderr",
     "output_type": "stream",
     "text": [
      "WARNING: You are using pip version 20.3.1; however, version 21.0.1 is available.\n",
      "You should consider upgrading via the 'c:\\users\\trang\\anaconda3\\python.exe -m pip install --upgrade pip' command.\n"
     ]
    }
   ],
   "source": [
    "!pip install what3words\n"
   ]
  },
  {
   "cell_type": "code",
   "execution_count": 4,
   "metadata": {},
   "outputs": [
    {
     "name": "stdout",
     "output_type": "stream",
     "text": [
      "{'country': 'GB', 'square': {'southwest': {'lng': -0.195426, 'lat': 51.484449}, 'northeast': {'lng': -0.195383, 'lat': 51.484476}}, 'nearestPlace': 'Kensington, London', 'coordinates': {'lng': -0.195405, 'lat': 51.484463}, 'words': 'prom.cape.pump', 'language': 'en', 'map': 'https://w3w.co/prom.cape.pump'}\n"
     ]
    }
   ],
   "source": [
    "import what3words\n",
    "geocoder = what3words.Geocoder(\"B8KUQCZO\")\n",
    "res = geocoder.convert_to_3wa(what3words.Coordinates(51.484463, -0.195405))\n",
    "print(res)"
   ]
  },
  {
   "cell_type": "code",
   "execution_count": 5,
   "metadata": {},
   "outputs": [
    {
     "name": "stdout",
     "output_type": "stream",
     "text": [
      "{'country': 'GB', 'square': {'southwest': {'lng': -0.195426, 'lat': 51.484449}, 'northeast': {'lng': -0.195383, 'lat': 51.484476}}, 'nearestPlace': 'Kensington, London', 'coordinates': {'lng': -0.195405, 'lat': 51.484463}, 'words': 'prom.cape.pump', 'language': 'en', 'map': 'https://w3w.co/prom.cape.pump'}\n"
     ]
    }
   ],
   "source": [
    "res = geocoder.convert_to_coordinates('prom.cape.pump')\n",
    "print(res)"
   ]
  },
  {
   "cell_type": "code",
   "execution_count": 6,
   "metadata": {},
   "outputs": [
    {
     "name": "stdout",
     "output_type": "stream",
     "text": [
      "{'suggestions': [{'country': 'FR', 'nearestPlace': 'Saint-Amand-Longpré, Centre', 'words': 'filed.count.soaped', 'rank': 1, 'language': 'en'}, {'country': 'DE', 'nearestPlace': 'Mittegroßefehn, Lower Saxony', 'words': 'filling.count.soapy', 'rank': 2, 'language': 'en'}, {'country': 'DE', 'nearestPlace': 'Dorfen, Bavaria', 'words': 'filled.count.slab', 'rank': 3, 'language': 'en'}]}\n"
     ]
    }
   ],
   "source": [
    "res = geocoder.autosuggest('filled.count.soap', clip_to_country=\"FR,DE\")\n",
    "print(res)"
   ]
  },
  {
   "cell_type": "markdown",
   "metadata": {},
   "source": [
    "### PCW "
   ]
  },
  {
   "cell_type": "code",
   "execution_count": 8,
   "metadata": {},
   "outputs": [
    {
     "data": {
      "text/plain": [
       "'\\nSupreme: 37.782025065279846, -122.41054881760502\\napi key: B8KUQCZO\\n'"
      ]
     },
     "execution_count": 8,
     "metadata": {},
     "output_type": "execute_result"
    }
   ],
   "source": [
    "'''\n",
    "Supreme: 37.782025065279846, -122.41054881760502\n",
    "api key: B8KUQCZO\n",
    "'''"
   ]
  },
  {
   "cell_type": "code",
   "execution_count": 33,
   "metadata": {},
   "outputs": [
    {
     "name": "stdout",
     "output_type": "stream",
     "text": [
      "37.782032\n",
      "-122.410546\n"
     ]
    }
   ],
   "source": [
    "# GET request nearest coords --> 3 words\n",
    "# Run these lines in POSTMAN\n",
    "# https://api.what3words.com/v3/convert-to-3wa?coordinates=37.782025065279846,-122.41054881760502&key=B8KUQCZO\n",
    "#https://api.what3words.com/v3/convert-to-coordinates?words=crazy.parade.improving&key=B8KUQCZO\n",
    "\n",
    "# Result:\n",
    "json = {\n",
    "    \"country\": \"US\",\n",
    "    \"square\": {\n",
    "        \"southwest\": {\n",
    "            \"lng\": -122.410563,\n",
    "            \"lat\": 37.782018\n",
    "        },\n",
    "        \"northeast\": {\n",
    "            \"lng\": -122.410529,\n",
    "            \"lat\": 37.782045\n",
    "        }\n",
    "    },\n",
    "    \"nearestPlace\": \"San Francisco, California\",\n",
    "    \"coordinates\": {\n",
    "        \"lng\": -122.410546,\n",
    "        \"lat\": 37.782032\n",
    "    },\n",
    "    \"words\": \"crazy.parade.improving\",\n",
    "    \"language\": \"en\",\n",
    "    \"map\": \"https://w3w.co/crazy.parade.improving\"\n",
    "}\n",
    "print(json_input[\"coordinates\"][\"lat\"])\n",
    "print(json_input[\"coordinates\"][\"lng\"])"
   ]
  },
  {
   "cell_type": "code",
   "execution_count": 30,
   "metadata": {},
   "outputs": [
    {
     "name": "stdout",
     "output_type": "stream",
     "text": [
      "Requirement already satisfied: requests in c:\\users\\trang\\anaconda3\\lib\\site-packages (2.18.4)\n",
      "Requirement already satisfied: chardet<3.1.0,>=3.0.2 in c:\\users\\trang\\anaconda3\\lib\\site-packages (from requests) (3.0.4)\n",
      "Requirement already satisfied: idna<2.7,>=2.5 in c:\\users\\trang\\anaconda3\\lib\\site-packages (from requests) (2.6)\n",
      "Requirement already satisfied: urllib3<1.23,>=1.21.1 in c:\\users\\trang\\anaconda3\\lib\\site-packages (from requests) (1.22)\n",
      "Requirement already satisfied: certifi>=2017.4.17 in c:\\users\\trang\\anaconda3\\lib\\site-packages (from requests) (2018.4.16)\n"
     ]
    },
    {
     "name": "stderr",
     "output_type": "stream",
     "text": [
      "WARNING: You are using pip version 20.3.1; however, version 21.0.1 is available.\n",
      "You should consider upgrading via the 'c:\\users\\trang\\anaconda3\\python.exe -m pip install --upgrade pip' command.\n"
     ]
    }
   ],
   "source": [
    "!pip install requests"
   ]
  },
  {
   "cell_type": "code",
   "execution_count": 35,
   "metadata": {},
   "outputs": [
    {
     "name": "stdout",
     "output_type": "stream",
     "text": [
      "{'country': 'US', 'square': {'southwest': {'lng': -122.410563, 'lat': 37.782018}, 'northeast': {'lng': -122.410529, 'lat': 37.782045}}, 'nearestPlace': 'San Francisco, California', 'coordinates': {'lng': -122.410546, 'lat': 37.782032}, 'words': 'crazy.parade.improving', 'language': 'en', 'map': 'https://w3w.co/crazy.parade.improving'}\n"
     ]
    }
   ],
   "source": [
    "\n",
    "import requests\n",
    "r = requests.get('https://api.what3words.com/v3/convert-to-3wa?coordinates=37.782025065279846,-122.41054881760502&key=B8KUQCZO')\n",
    "json_input = r.json()\n",
    "print(json_input)"
   ]
  },
  {
   "cell_type": "code",
   "execution_count": 45,
   "metadata": {},
   "outputs": [
    {
     "name": "stdout",
     "output_type": "stream",
     "text": [
      "<Response [405]>\n",
      "<Response [200]>\n"
     ]
    },
    {
     "data": {
      "text/plain": [
       "'\\n405 Method Not Allowed response status code indicates that the request method is \\nknown by the server but is not supported by the target resource\\n'"
      ]
     },
     "execution_count": 45,
     "metadata": {},
     "output_type": "execute_result"
    }
   ],
   "source": [
    "r_h = requests.head('https://api.what3words.com/v3/convert-to-3wa?coordinates=37.782025065279846,-122.41054881760502&key=B8KUQCZO')\n",
    "print(r_h)\n",
    "r_o = requests.options('https://api.what3words.com/v3/convert-to-3wa?coordinates=37.782025065279846,-122.41054881760502&key=B8KUQCZO')\n",
    "print(r_o)\n",
    "'''\n",
    "405 Method Not Allowed response status code indicates that the request method is \n",
    "known by the server but is not supported by the target resource\n",
    "'''"
   ]
  },
  {
   "cell_type": "code",
   "execution_count": 36,
   "metadata": {},
   "outputs": [
    {
     "name": "stdout",
     "output_type": "stream",
     "text": [
      "Latitude: 37.782032\n",
      " Longitude: -122.410546\n",
      " Nearest place: San Francisco, California\n",
      " 3 word address: crazy.parade.improving\n"
     ]
    }
   ],
   "source": [
    "def json_formatter(json_input):\n",
    "    print((\"Latitude: {}\".format(json_input[\"coordinates\"][\"lat\"])) +\"\\n\",\n",
    "         (\"Longitude: {}\".format(json_input[\"coordinates\"][\"lng\"])) +\"\\n\", \n",
    "         ( \"Nearest place: {}\".format(json_input[\"nearestPlace\"])) +\"\\n\", \n",
    "        (\"3 word address: {}\".format(json_input[\"words\"])))\n",
    "json_formatter(json_input)"
   ]
  },
  {
   "cell_type": "code",
   "execution_count": 50,
   "metadata": {},
   "outputs": [
    {
     "name": "stdout",
     "output_type": "stream",
     "text": [
      "Latitude: 38.184387\n",
      "Longitude: 81.597136\n",
      "Nearest Place: Hotan, Xinjiang Uygur Zizhiqu\n",
      "3 word address: freshness.iced.clout\n"
     ]
    }
   ],
   "source": [
    "# Tiago\n",
    "import what3words\n",
    "\n",
    "api_key = \"R243WBR0\"\n",
    "\n",
    "geocoder = what3words.Geocoder(api_key)\n",
    "\n",
    "coords = [38.450759, 80.862550]\n",
    "\n",
    "## suggest a location close to the word here\n",
    "autosuggest = geocoder.autosuggest('fresh.over.clout', \\\n",
    "    clip_to_country=\"CN\", \\\n",
    "    focus=what3words.Coordinates(coords[0], coords[1]), \\\n",
    "    n_results=1, \\\n",
    ")\n",
    "\n",
    "if 'error' in autosuggest:\n",
    "    code = autosuggest['error']['code']\n",
    "    message = autosuggest['error']['message']\n",
    "    print (code, message)\n",
    "\n",
    "else:\n",
    "    # Obtains the one, and only result from the returned list of suggestions\n",
    "    words = autosuggest['suggestions'][0]['words']\n",
    "\n",
    "    convert_to_coordinates = geocoder.convert_to_coordinates(words)\n",
    "\n",
    "    print(\"Latitude: {}\".format(convert_to_coordinates['coordinates']['lat']))\n",
    "    print(\"Longitude: {}\".format(convert_to_coordinates['coordinates']['lng']))\n",
    "    print(\"Nearest Place: {}\".format(convert_to_coordinates['nearestPlace']))\n",
    "    print(\"3 word address: {}\".format(words))"
   ]
  },
  {
   "cell_type": "code",
   "execution_count": null,
   "metadata": {},
   "outputs": [],
   "source": []
  }
 ],
 "metadata": {
  "kernelspec": {
   "display_name": "Python 3",
   "language": "python",
   "name": "python3"
  },
  "language_info": {
   "codemirror_mode": {
    "name": "ipython",
    "version": 3
   },
   "file_extension": ".py",
   "mimetype": "text/x-python",
   "name": "python",
   "nbconvert_exporter": "python",
   "pygments_lexer": "ipython3",
   "version": "3.6.5"
  }
 },
 "nbformat": 4,
 "nbformat_minor": 2
}
